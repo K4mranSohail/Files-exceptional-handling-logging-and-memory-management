{
  "nbformat": 4,
  "nbformat_minor": 0,
  "metadata": {
    "colab": {
      "provenance": []
    },
    "kernelspec": {
      "name": "python3",
      "display_name": "Python 3"
    },
    "language_info": {
      "name": "python"
    }
  },
  "cells": [
    {
      "cell_type": "markdown",
      "source": [
        "# Files, exceptional handling, logging and memory management Questions"
      ],
      "metadata": {
        "id": "DPuW1GhbeXEp"
      }
    },
    {
      "cell_type": "markdown",
      "source": [
        "Q1. What is the difference between interpreted and compiled languages?\n",
        "\n",
        " - The key difference between interpreted and compiled languages lies in how the code is executed:\n",
        "\n",
        "- Compiled Languages\n",
        "\n",
        "The source code is translated into machine code by a compiler before execution.\n",
        "\n",
        "The entire program is compiled at once, creating an executable file (.exe, .out, etc.).\n",
        "\n",
        "Faster execution since the machine code is already generated.\n",
        "\n",
        "Example languages: C, C++, Rust, Go, Swift\n",
        "\n",
        "- Interpreted Languages\n",
        "\n",
        "The source code is executed line by line by an interpreter at runtime.\n",
        "\n",
        "No separate executable is created; instead, code runs on the fly.\n",
        "\n",
        "Slower execution compared to compiled languages since each line is translated during runtime.\n",
        "\n",
        "Example languages: Python, JavaScript, Ruby, PHP"
      ],
      "metadata": {
        "id": "TprN2f9Jef7d"
      }
    },
    {
      "cell_type": "markdown",
      "source": [
        "Q2. What is exception handling in Python?\n",
        "\n",
        " - Exception handling in Python is a mechanism that allows you to handle runtime errors (exceptions) gracefully, preventing your program from crashing unexpectedly."
      ],
      "metadata": {
        "id": "yUXPa2rNfCL5"
      }
    },
    {
      "cell_type": "markdown",
      "source": [
        "Q3. What is the purpose of the finally block in exception handling?\n",
        "\n",
        " - The finally block in Python is used to execute code regardless of whether an exception occurs or not. It ensures that important cleanup operations (like closing a file, releasing resources, or disconnecting from a database) always run, even if an error is raised.\n",
        "\n"
      ],
      "metadata": {
        "id": "wHtUxZMAfdSx"
      }
    },
    {
      "cell_type": "markdown",
      "source": [
        "Q4. What is logging in Python?\n",
        "\n",
        " - Logging in Python is a way to track events that happen when a program runs. It helps with debugging, monitoring, and troubleshooting by recording messages about program execution."
      ],
      "metadata": {
        "id": "kaNifhuWfllV"
      }
    },
    {
      "cell_type": "markdown",
      "source": [
        "Q5.  What is the significance of the __del__ method in Python?\n",
        "\n",
        " - The __del__ method in Python is a destructor method that gets called when an object is about to be destroyed. It is mainly used for resource cleanup, such as closing files, releasing memory, or disconnecting from a database."
      ],
      "metadata": {
        "id": "mbxjgtgqfwP-"
      }
    },
    {
      "cell_type": "markdown",
      "source": [
        "Q6. What is the difference between import and from ... import in Python?\n",
        "\n",
        " - Both import and from ... import are used to bring external modules into a Python program, but they differ in how they import and use the module's contents."
      ],
      "metadata": {
        "id": "g33FconCf8_Z"
      }
    },
    {
      "cell_type": "markdown",
      "source": [
        "Q7.  How can you handle multiple exceptions in Python?\n",
        "\n",
        " - In Python, you can handle multiple exceptions using multiple except blocks, a single except block with a tuple, or using Exception as a base class.\n",
        "\n"
      ],
      "metadata": {
        "id": "6er9gNVxgEN_"
      }
    },
    {
      "cell_type": "markdown",
      "source": [
        "Q8. What is the purpose of the with statement when handling files in Python?\n",
        "\n",
        " - The with statement in Python is used to simplify file handling by ensuring that files are properly closed after they are no longer needed. It helps in resource management and prevents common errors like forgetting to close a file."
      ],
      "metadata": {
        "id": "BlVF_TESgNti"
      }
    },
    {
      "cell_type": "markdown",
      "source": [
        "Q9. What is the difference between multithreading and multiprocessing?\n",
        "\n",
        " - Both multithreading and multiprocessing allow a program to execute tasks concurrently, but they have different use cases and work in distinct ways."
      ],
      "metadata": {
        "id": "pEvhcqTMgV8T"
      }
    },
    {
      "cell_type": "markdown",
      "source": [
        "Q10. What are the advantages of using logging in a program?\n",
        "\n",
        " - Logging is a powerful tool in Python that helps track events, errors, and execution flow in a program. Instead of using print() statements, logging provides structured, configurable, and persistent ways to debug and monitor applications."
      ],
      "metadata": {
        "id": "0RSOumyygeHA"
      }
    },
    {
      "cell_type": "markdown",
      "source": [
        "Q11. What is memory management in Python?\n",
        "\n",
        " - Memory management in Python is automatic and efficient, thanks to features like reference counting, garbage collection, and memory pools. Python ensures that memory is allocated and deallocated dynamically to optimize performance."
      ],
      "metadata": {
        "id": "lUsrijKHgk30"
      }
    },
    {
      "cell_type": "markdown",
      "source": [
        "Q12.  What are the basic steps involved in exception handling in Python?\n",
        "\n",
        " - Exception handling in Python follows a structured approach to detect, handle, and recover from runtime errors."
      ],
      "metadata": {
        "id": "PzGUmW8Bgrxp"
      }
    },
    {
      "cell_type": "markdown",
      "source": [
        "Q13. Why is memory management important in Python?\n",
        "\n",
        " - Memory management is crucial in Python because it optimizes performance, prevents memory leaks, and ensures efficient resource utilization. Python automatically manages memory, but understanding its importance helps in writing efficient and scalable code."
      ],
      "metadata": {
        "id": "RBSfX2hPg3j4"
      }
    },
    {
      "cell_type": "markdown",
      "source": [
        "Q14. What is the role of try and except in exception handling?\n",
        "\n",
        " - In Python, try and except blocks are used to handle exceptions and prevent programs from crashing due to unexpected errors. They help in detecting, handling, and recovering from runtime errors."
      ],
      "metadata": {
        "id": "VqwEleC5g-8R"
      }
    },
    {
      "cell_type": "markdown",
      "source": [
        "Q15. How does Python's garbage collection system work?\n",
        "\n",
        " - Python's garbage collection (GC) system automatically manages memory by removing unused objects to free up space. It primarily uses:\n",
        "\n",
        "1. Reference Counting (Basic Memory Management)\n",
        "2. Garbage Collector (For Circular References)"
      ],
      "metadata": {
        "id": "4ScWoXQihIC6"
      }
    },
    {
      "cell_type": "markdown",
      "source": [
        "Q16.  What is the purpose of the else block in exception handling?\n",
        "\n",
        " - The else block in exception handling is used to execute code only if no exceptions occur in the try block. It helps separate error-prone code from normal execution for better readability and maintainability."
      ],
      "metadata": {
        "id": "3pm0GyKThZTv"
      }
    },
    {
      "cell_type": "markdown",
      "source": [
        "Q17. What are the common logging levels in Python?\n",
        "\n",
        " - Python’s logging module provides different logging levels to categorize log messages based on severity. These levels help in debugging, monitoring, and analyzing applications."
      ],
      "metadata": {
        "id": "f5bYFoPOhhUh"
      }
    },
    {
      "cell_type": "markdown",
      "source": [
        "Q18. What is the difference between os.fork() and multiprocessing in Python?\n",
        "\n",
        " - Both os.fork() and the multiprocessing module allow Python to create new processes, but they work differently and are suited for different use cases.\n",
        "\n"
      ],
      "metadata": {
        "id": "nmGdSn4thpCt"
      }
    },
    {
      "cell_type": "markdown",
      "source": [
        "Q19. What is the importance of closing a file in Python?\n",
        "\n",
        " - Closing a file in Python is essential to ensure proper resource management and avoid potential issues like data loss, file corruption, or memory leaks."
      ],
      "metadata": {
        "id": "W0rekR7shzuJ"
      }
    },
    {
      "cell_type": "markdown",
      "source": [
        "Q20.  What is the difference between file.read() and file.readline() in Python?\n",
        "\n",
        " - The file.read() and file.readline() methods in Python are both used for reading file contents, but they serve different purposes. The file.read() method reads the entire file as a single string if no argument is provided or a specific number of bytes if specified, making it useful for reading small to medium-sized files. However, it can cause memory issues if used on large files. On the other hand, file.readline() reads only one line at a time, making it more efficient for reading large files where memory optimization is important. Each subsequent call to readline() reads the next line, maintaining the file cursor position. While read() is ideal when you need to process the entire file at once, readline() is preferred when handling files line by line to avoid excessive memory consumption. Understanding the difference between these methods helps in choosing the best approach for efficient file handling in Python."
      ],
      "metadata": {
        "id": "iBj2Cg0sh7ML"
      }
    },
    {
      "cell_type": "markdown",
      "source": [
        "Q21. What is the logging module in Python used for?\n",
        "\n",
        " - The logging module in Python is used for tracking events, debugging, and monitoring an application’s execution. Instead of using print() for debugging, logging provides a structured, configurable, and scalable way to record messages."
      ],
      "metadata": {
        "id": "Cwr9FTIQiMbx"
      }
    },
    {
      "cell_type": "markdown",
      "source": [
        "Q22. What is the os module in Python used for in file handling?\n",
        "\n",
        " - The os module in Python provides functions to interact with the operating system, making it useful for file and directory handling. It allows you to create, delete, rename, check, and navigate files and directories programmatically."
      ],
      "metadata": {
        "id": "ux832r3riUGv"
      }
    },
    {
      "cell_type": "markdown",
      "source": [
        "Q23. What are the challenges associated with memory management in Python?\n",
        "\n",
        " - Python uses automatic memory management, but it still faces several challenges related to memory efficiency, fragmentation, and garbage collection. Understanding these challenges helps in writing efficient code and avoiding memory leaks."
      ],
      "metadata": {
        "id": "Mg-I8yx3ibtT"
      }
    },
    {
      "cell_type": "markdown",
      "source": [
        "Q24. How do you raise an exception manually in Python?\n",
        "\n",
        " - In Python, you can manually trigger (raise) an exception using the raise keyword. This is useful for custom error handling, enforcing conditions, and debugging."
      ],
      "metadata": {
        "id": "LVHt1CNwijax"
      }
    },
    {
      "cell_type": "markdown",
      "source": [
        "Q25. Why is it important to use multithreading in certain applications?\n",
        "\n",
        " - Multithreading allows a program to execute multiple tasks concurrently within the same process. This improves performance, responsiveness, and resource utilization in various applications.\n",
        "\n"
      ],
      "metadata": {
        "id": "OGZRe46XirrR"
      }
    },
    {
      "cell_type": "markdown",
      "source": [
        "# Practical Questions"
      ],
      "metadata": {
        "id": "T1nYFjVDi1GI"
      }
    },
    {
      "cell_type": "code",
      "source": [
        "# 1. How can you open a file for writing in Python and write a string to it?\n",
        "\n",
        "# Open a file in write mode\n",
        "file = open(\"example.txt\", \"w\")\n",
        "\n",
        "# Write a string to the file\n",
        "file.write(\"Hello, this is a test message!\")\n",
        "\n",
        "# Close the file\n",
        "file.close()\n"
      ],
      "metadata": {
        "id": "m04yM5iVi4zu"
      },
      "execution_count": 1,
      "outputs": []
    },
    {
      "cell_type": "code",
      "source": [
        "# 2.  Write a Python program to read the contents of a file and print each line .\n",
        "\n",
        "with open(\"example.txt\", \"r\") as file:\n",
        "    lines = file.readlines()  # Reads all lines into a list\n",
        "    for line in lines:\n",
        "        print(line.strip())  # Print each line\n"
      ],
      "metadata": {
        "colab": {
          "base_uri": "https://localhost:8080/"
        },
        "id": "LxFv2FBOjGx7",
        "outputId": "296f2f97-7fb7-4cf0-b562-49d41d33a94e"
      },
      "execution_count": 2,
      "outputs": [
        {
          "output_type": "stream",
          "name": "stdout",
          "text": [
            "Hello, this is a test message!\n"
          ]
        }
      ]
    },
    {
      "cell_type": "code",
      "source": [
        "# 3. How would you handle a case where the file doesn't exist while trying to open it for reading\n",
        "\n",
        "try:\n",
        "    with open(\"non_existent_file.txt\", \"r\") as file:\n",
        "        for line in file:\n",
        "            print(line.strip())  # Read and print each line\n",
        "except FileNotFoundError:\n",
        "    print(\"Error: The file does not exist!\")\n"
      ],
      "metadata": {
        "colab": {
          "base_uri": "https://localhost:8080/"
        },
        "id": "ro5-qCYXjftR",
        "outputId": "da2b4615-f7d3-46f6-8a4c-08fd1390bec6"
      },
      "execution_count": 3,
      "outputs": [
        {
          "output_type": "stream",
          "name": "stdout",
          "text": [
            "Error: The file does not exist!\n"
          ]
        }
      ]
    },
    {
      "cell_type": "code",
      "source": [
        "# 4.Write a Python script that reads from one file and writes its content to another file\n",
        "\n",
        "# Function to copy content from one file to another\n",
        "def copy_file(source, destination):\n",
        "    try:\n",
        "        # Open source file for reading\n",
        "        with open(source, \"r\") as src:\n",
        "            content = src.read()  # Read file content\n",
        "\n",
        "        # Open destination file for writing\n",
        "        with open(destination, \"w\") as dest:\n",
        "            dest.write(content)  # Write content to new file\n",
        "\n",
        "        print(f\"File copied successfully from '{source}' to '{destination}'\")\n",
        "\n",
        "    except FileNotFoundError:\n",
        "        print(f\"Error: The file '{source}' does not exist!\")\n",
        "    except Exception as e:\n",
        "        print(f\"An error occurred: {e}\")\n",
        "\n",
        "# Example usage\n",
        "source_file = \"source.txt\"       # Replace with your source file\n",
        "destination_file = \"destination.txt\"  # Replace with your destination file\n",
        "\n",
        "copy_file(source_file, destination_file)\n"
      ],
      "metadata": {
        "colab": {
          "base_uri": "https://localhost:8080/"
        },
        "id": "Wn6vhbkdjvwe",
        "outputId": "927b0504-b23d-4e26-e4d2-f8f9e64c3529"
      },
      "execution_count": 4,
      "outputs": [
        {
          "output_type": "stream",
          "name": "stdout",
          "text": [
            "Error: The file 'source.txt' does not exist!\n"
          ]
        }
      ]
    },
    {
      "cell_type": "code",
      "source": [
        "# 5. How would you catch and handle division by zero error in Python\n",
        "\n",
        "try:\n",
        "    num = int(input(\"Enter a number: \"))\n",
        "    result = num / 0  # This will cause ZeroDivisionError\n",
        "    print(\"Result:\", result)\n",
        "except ZeroDivisionError:\n",
        "    print(\"Error: Division by zero is not allowed!\")\n"
      ],
      "metadata": {
        "colab": {
          "base_uri": "https://localhost:8080/"
        },
        "id": "tnztvLZhj6Ka",
        "outputId": "07ca3f51-366b-4603-d8cd-7362859934dd"
      },
      "execution_count": 5,
      "outputs": [
        {
          "output_type": "stream",
          "name": "stdout",
          "text": [
            "Enter a number: 5\n",
            "Error: Division by zero is not allowed!\n"
          ]
        }
      ]
    },
    {
      "cell_type": "code",
      "source": [
        "# 6. Write a Python program that logs an error message to a log file when a division by zero exception occurs\n",
        "\n",
        "import logging\n",
        "\n",
        "# Configure logging\n",
        "logging.basicConfig(filename=\"error.log\", level=logging.ERROR,\n",
        "                    format=\"%(asctime)s - %(levelname)s - %(message)s\")\n",
        "\n",
        "def divide_numbers(num1, num2):\n",
        "    try:\n",
        "        result = num1 / num2\n",
        "        print(\"Result:\", result)\n",
        "    except ZeroDivisionError:\n",
        "        logging.error(\"Attempted to divide by zero.\")  # Log the error\n",
        "        print(\"Error: Cannot divide by zero!\")\n",
        "\n",
        "# Example usage\n",
        "num1 = 10\n",
        "num2 = 0  # This will trigger the ZeroDivisionE\n"
      ],
      "metadata": {
        "id": "-qZbZFtikKJH"
      },
      "execution_count": 6,
      "outputs": []
    },
    {
      "cell_type": "code",
      "source": [
        "# 7. How do you log information at different levels (INFO, ERROR, WARNING) in Python using the logging module\n",
        "\n",
        "import logging\n",
        "\n",
        "# Configure logging\n",
        "logging.basicConfig(filename=\"app.log\", level=logging.DEBUG,\n",
        "                    format=\"%(asctime)s - %(levelname)s - %(message)s\")\n",
        "\n",
        "# Log messages at different levels\n",
        "logging.debug(\"This is a DEBUG message (useful for troubleshooting).\")\n",
        "logging.info(\"This is an INFO message (general program status).\")\n",
        "logging.warning(\"This is a WARNING message (potential issue detected).\")\n",
        "logging.error(\"This is an ERROR message (an exception occurred).\")\n",
        "logging.critical(\"This is a CRITICAL message (serious failure).\")\n"
      ],
      "metadata": {
        "colab": {
          "base_uri": "https://localhost:8080/"
        },
        "id": "fZMTrQ9zkjKg",
        "outputId": "ddd1d2c2-1b91-4a66-8d12-1b0e463aab07"
      },
      "execution_count": 7,
      "outputs": [
        {
          "output_type": "stream",
          "name": "stderr",
          "text": [
            "WARNING:root:This is a WARNING message (potential issue detected).\n",
            "ERROR:root:This is an ERROR message (an exception occurred).\n",
            "CRITICAL:root:This is a CRITICAL message (serious failure).\n"
          ]
        }
      ]
    },
    {
      "cell_type": "code",
      "source": [
        "# 8. Write a program to handle a file opening error using exception handling\n",
        "\n",
        "def read_file(filename):\n",
        "    try:\n",
        "        with open(filename, \"r\") as file:\n",
        "            content = file.read()\n",
        "            print(\"File Content:\\n\", content)\n",
        "    except FileNotFoundError:\n",
        "        print(f\"Error: The file '{filename}' does not exist!\")\n",
        "    except PermissionError:\n",
        "        print(f\"Error: Permission denied to open '{filename}'!\")\n",
        "    except Exception as e:\n",
        "        print(f\"An unexpected error occurred: {e}\")\n",
        "\n",
        "# Example usage\n",
        "filename = \"non_existent_file.txt\"  # Change this to a real file to test\n",
        "read_file(filename)\n"
      ],
      "metadata": {
        "colab": {
          "base_uri": "https://localhost:8080/"
        },
        "id": "wcuwRew8kxlV",
        "outputId": "5b365a4c-a6cc-4864-b41d-f5808e6a30c3"
      },
      "execution_count": 8,
      "outputs": [
        {
          "output_type": "stream",
          "name": "stdout",
          "text": [
            "Error: The file 'non_existent_file.txt' does not exist!\n"
          ]
        }
      ]
    },
    {
      "cell_type": "code",
      "source": [
        "# 9. How can you read a file line by line and store its content in a list in Python\n",
        "\n",
        "def read_file_lines(filename):\n",
        "    try:\n",
        "        with open(filename, \"r\") as file:\n",
        "            lines = file.readlines()  # Read all lines and store them in a list\n",
        "        return lines\n",
        "    except FileNotFoundError:\n",
        "        print(f\"Error: The file '{filename}' does not exist!\")\n",
        "        return []\n",
        "\n",
        "# Example usage\n",
        "filename = \"example.txt\"  # Replace with your file name\n",
        "lines_list = read_file_lines(filename)\n",
        "\n",
        "# Print the list\n",
        "print(lines_list)\n"
      ],
      "metadata": {
        "colab": {
          "base_uri": "https://localhost:8080/"
        },
        "id": "q5-_FBt8k8l5",
        "outputId": "f1c5ac27-e7c0-4e29-e1a4-95f7c2249b00"
      },
      "execution_count": 9,
      "outputs": [
        {
          "output_type": "stream",
          "name": "stdout",
          "text": [
            "['Hello, this is a test message!']\n"
          ]
        }
      ]
    },
    {
      "cell_type": "code",
      "source": [
        "# 10.How can you append data to an existing file in Python\n",
        "\n",
        "def append_to_file(filename, data):\n",
        "    try:\n",
        "        with open(filename, \"a\") as file:  # \"a\" mode appends to the file\n",
        "            file.write(data + \"\\n\")  # Add a newline after each entry\n",
        "        print(f\"Data successfully appended to '{filename}'.\")\n",
        "    except Exception as e:\n",
        "        print(f\"Error: {e}\")\n",
        "\n",
        "# Example usage\n",
        "append_to_file(\"example.txt\", \"This is a new line.\")\n"
      ],
      "metadata": {
        "colab": {
          "base_uri": "https://localhost:8080/"
        },
        "id": "yOXtEY5SlF1g",
        "outputId": "32e5199e-aa2f-4479-8f48-6f847093b692"
      },
      "execution_count": 10,
      "outputs": [
        {
          "output_type": "stream",
          "name": "stdout",
          "text": [
            "Data successfully appended to 'example.txt'.\n"
          ]
        }
      ]
    },
    {
      "cell_type": "code",
      "source": [
        "# 11. Write a Python program that uses a try-except block to handle an error when attempting to access a\n",
        "#      dictionary key that doesn't exist\n",
        "\n",
        "\n",
        "def get_value_from_dict(data, key):\n",
        "    try:\n",
        "        value = data[key]  # Attempt to access the key\n",
        "        print(f\"Value for '{key}': {value}\")\n",
        "    except KeyError:\n",
        "        print(f\"Error: Key '{key}' not found in the dictionary!\")\n",
        "\n",
        "# Example dictionary\n",
        "sample_dict = {\"name\": \"Alice\", \"age\": 25, \"city\": \"New York\"}\n",
        "\n",
        "# Test cases\n",
        "get_value_from_dict(sample_dict, \"age\")    # ✅ Key exists\n",
        "get_value_from_dict(sample_dict, \"salary\") # ❌ Key doesn't exist\n"
      ],
      "metadata": {
        "colab": {
          "base_uri": "https://localhost:8080/"
        },
        "id": "kzvN9cOalbxK",
        "outputId": "cb7772f5-5ccb-4c66-ff96-60036b2e90fa"
      },
      "execution_count": 11,
      "outputs": [
        {
          "output_type": "stream",
          "name": "stdout",
          "text": [
            "Value for 'age': 25\n",
            "Error: Key 'salary' not found in the dictionary!\n"
          ]
        }
      ]
    },
    {
      "cell_type": "code",
      "source": [
        "# 12. Write a program that demonstrates using multiple except blocks to handle different types of exceptions\n",
        "\n",
        "def exception_demo():\n",
        "    try:\n",
        "        num1 = int(input(\"Enter a number: \"))  # May raise ValueError\n",
        "        num2 = int(input(\"Enter another number: \"))  # May raise ValueError\n",
        "        result = num1 / num2  # May raise ZeroDivisionError\n",
        "        print(f\"Result: {result}\")\n",
        "\n",
        "        my_list = [1, 2, 3]\n",
        "        print(my_list[5])  # May raise IndexError\n",
        "\n",
        "    except ValueError:\n",
        "        print(\"Error: Invalid input! Please enter a valid number.\")\n",
        "    except ZeroDivisionError:\n",
        "        print(\"Error: Cannot divide by zero!\")\n",
        "    except IndexError:\n",
        "        print(\"Error: List index out of range!\")\n",
        "    except Exception as e:\n",
        "        print(f\"An unexpected error occurred: {e}\")\n",
        "\n",
        "# Run the function\n",
        "exception_demo()\n"
      ],
      "metadata": {
        "colab": {
          "base_uri": "https://localhost:8080/"
        },
        "id": "Eqbrk4zLlqVU",
        "outputId": "24234bc0-acd1-4734-c831-9a167feb8ac8"
      },
      "execution_count": 12,
      "outputs": [
        {
          "output_type": "stream",
          "name": "stdout",
          "text": [
            "Enter a number: 5\n",
            "Enter another number: 6\n",
            "Result: 0.8333333333333334\n",
            "Error: List index out of range!\n"
          ]
        }
      ]
    },
    {
      "cell_type": "code",
      "source": [
        "# 13. How would you check if a file exists before attempting to read it in Python\n",
        "\n",
        "import os\n",
        "\n",
        "filename = \"example.txt\"\n",
        "\n",
        "if os.path.exists(filename):\n",
        "    with open(filename, \"r\") as file:\n",
        "        content = file.read()\n",
        "        print(content)\n",
        "else:\n",
        "    print(f\"Error: The file '{filename}' does not exist!\")\n"
      ],
      "metadata": {
        "colab": {
          "base_uri": "https://localhost:8080/"
        },
        "id": "8W2KBhellzZe",
        "outputId": "9dbfff51-0daf-46c6-d501-906ca51d658d"
      },
      "execution_count": 13,
      "outputs": [
        {
          "output_type": "stream",
          "name": "stdout",
          "text": [
            "Hello, this is a test message!This is a new line.\n",
            "\n"
          ]
        }
      ]
    },
    {
      "cell_type": "code",
      "source": [
        "# 14. Write a program that uses the logging module to log both informational and error messages\n",
        "\n",
        "import logging\n",
        "\n",
        "# Configure logging\n",
        "logging.basicConfig(filename=\"app.log\", level=logging.INFO, format=\"%(levelname)s - %(message)s\")\n",
        "\n",
        "def divide(a, b):\n",
        "    logging.info(f\"Dividing {a} by {b}\")\n",
        "    try:\n",
        "        return a / b\n",
        "    except ZeroDivisionError:\n",
        "        logging.error(\"Division by zero error!\")\n",
        "        return None\n",
        "\n",
        "# Example usage\n",
        "divide(10, 2)  # ✅ Logs INFO\n",
        "divide(5, 0)   # ❌ Logs ERROR\n",
        "\n",
        "print(\"Check 'app.log' for details.\")\n"
      ],
      "metadata": {
        "colab": {
          "base_uri": "https://localhost:8080/"
        },
        "id": "MahUkMcgl_bF",
        "outputId": "35f5c1f4-4741-48cb-f098-03226c4b6fd5"
      },
      "execution_count": 14,
      "outputs": [
        {
          "output_type": "stream",
          "name": "stderr",
          "text": [
            "ERROR:root:Division by zero error!\n"
          ]
        },
        {
          "output_type": "stream",
          "name": "stdout",
          "text": [
            "Check 'app.log' for details.\n"
          ]
        }
      ]
    },
    {
      "cell_type": "code",
      "source": [
        "# 15.  Write a Python program that prints the content of a file and handles the case when the file is empty\n",
        "\n",
        "import os\n",
        "\n",
        "def print_file_content(filename):\n",
        "    try:\n",
        "        if os.path.exists(filename):  # Check if file exists\n",
        "            with open(filename, \"r\") as file:\n",
        "                content = file.read()\n",
        "                if content:  # Check if file is empty\n",
        "                    print(content)\n",
        "                else:\n",
        "                    print(f\"Error: The file '{filename}' is empty.\")\n",
        "        else:\n",
        "            print(f\"Error: The file '{filename}' does not exist.\")\n",
        "    except Exception as e:\n",
        "        print(f\"An error occurred: {e}\")\n",
        "\n",
        "# Example usage\n",
        "print_file_content(\"example.txt\")\n"
      ],
      "metadata": {
        "colab": {
          "base_uri": "https://localhost:8080/"
        },
        "id": "PT9JTycNmOmT",
        "outputId": "72ca3551-4d4c-40e0-bbae-b71f06c956c2"
      },
      "execution_count": 15,
      "outputs": [
        {
          "output_type": "stream",
          "name": "stdout",
          "text": [
            "Hello, this is a test message!This is a new line.\n",
            "\n"
          ]
        }
      ]
    },
    {
      "cell_type": "code",
      "source": [
        "# 16. Demonstrate how to use memory profiling to check the memory usage of a small program\n",
        "\n",
        "from memory_profiler import profile\n",
        "\n",
        "@profile\n",
        "def create_large_list():\n",
        "    data = [x ** 2 for x in range(100000)]  # Creates a large list\n",
        "    return sum(data)  # Returns sum of the list\n",
        "\n",
        "if __name__ == \"__main__\":\n",
        "    create_large_list()\n"
      ],
      "metadata": {
        "id": "PPvh54UKmYLd"
      },
      "execution_count": 18,
      "outputs": []
    },
    {
      "cell_type": "code",
      "source": [
        "# 17. Write a Python program to create and write a list of numbers to a file, one number per line\n",
        "\n",
        "def write_numbers_to_file(filename, numbers):\n",
        "    with open(filename, \"w\") as file:\n",
        "        for num in numbers:\n",
        "            file.write(f\"{num}\\n\")  # Write each number on a new line\n",
        "    print(f\"Numbers written to '{filename}' successfully.\")\n",
        "\n",
        "# Example usage\n",
        "numbers_list = list(range(1, 11))  # Create a list of numbers (1 to 10)\n",
        "write_numbers_to_file(\"numbers.txt\", numbers_list)\n"
      ],
      "metadata": {
        "colab": {
          "base_uri": "https://localhost:8080/"
        },
        "id": "cL2itXLWmjCH",
        "outputId": "35a5b84f-133d-459c-a177-a8cf7b40bb0d"
      },
      "execution_count": 19,
      "outputs": [
        {
          "output_type": "stream",
          "name": "stdout",
          "text": [
            "Numbers written to 'numbers.txt' successfully.\n"
          ]
        }
      ]
    },
    {
      "cell_type": "code",
      "source": [
        "# 18.  How would you implement a basic logging setup that logs to a file with rotation after 1MB\n",
        "\n",
        "import logging\n",
        "from logging.handlers import RotatingFileHandler\n",
        "\n",
        "# Configure logging\n",
        "log_file = \"app.log\"\n",
        "logging.basicConfig(\n",
        "    level=logging.INFO,\n",
        "    format=\"%(asctime)s - %(levelname)s - %(message)s\",\n",
        "    handlers=[\n",
        "        RotatingFileHandler(log_file, maxBytes=1_000_000, backupCount=3)  # 1MB limit, keep 3 backups\n",
        "    ]\n",
        ")\n",
        "\n",
        "# Example logging\n",
        "for i in range(10000):  # Generate logs to test rotation\n",
        "    logging.info(f\"Log entry {i}\")\n"
      ],
      "metadata": {
        "id": "D72L374tm6eu"
      },
      "execution_count": 20,
      "outputs": []
    },
    {
      "cell_type": "code",
      "source": [
        "# 19. Write a program that handles both IndexError and KeyError using a try-except block\n",
        "\n",
        "def handle_exceptions():\n",
        "    my_list = [10, 20, 30]\n",
        "    my_dict = {\"a\": 1, \"b\": 2}\n",
        "\n",
        "    try:\n",
        "        # Attempt to access an out-of-range index\n",
        "        print(my_list[5])\n",
        "\n",
        "        # Attempt to access a missing dictionary key\n",
        "        print(my_dict[\"z\"])\n",
        "\n",
        "    except IndexError:\n",
        "        print(\"Error: List index out of range!\")\n",
        "\n",
        "    except KeyError:\n",
        "        print(\"Error: Dictionary key not found!\")\n",
        "\n",
        "# Example usage\n",
        "handle_exceptions()\n"
      ],
      "metadata": {
        "colab": {
          "base_uri": "https://localhost:8080/"
        },
        "id": "jHpbeGeYnDfG",
        "outputId": "83dd828f-2f6c-42fe-bc01-16f341fc96bf"
      },
      "execution_count": 21,
      "outputs": [
        {
          "output_type": "stream",
          "name": "stdout",
          "text": [
            "Error: List index out of range!\n"
          ]
        }
      ]
    },
    {
      "cell_type": "code",
      "source": [
        "# 20. How would you open a file and read its contents using a context manager in Python\n",
        "\n",
        "def read_file(filename):\n",
        "    try:\n",
        "        with open(filename, \"r\") as file:  # Open file in read mode\n",
        "            content = file.read()  # Read entire file content\n",
        "            print(content)  # Print file content\n",
        "    except FileNotFoundError:\n",
        "        print(f\"Error: The file '{filename}' does not exist.\")\n",
        "    except Exception as e:\n",
        "        print(f\"An error occurred: {e}\")\n",
        "\n",
        "# Example usage\n",
        "read_file(\"example.txt\")\n"
      ],
      "metadata": {
        "colab": {
          "base_uri": "https://localhost:8080/"
        },
        "id": "UBb91nGAnPEN",
        "outputId": "fa61e39f-4756-46d1-cd42-8948882c0340"
      },
      "execution_count": 22,
      "outputs": [
        {
          "output_type": "stream",
          "name": "stdout",
          "text": [
            "Hello, this is a test message!This is a new line.\n",
            "\n"
          ]
        }
      ]
    },
    {
      "cell_type": "code",
      "source": [
        "# 21. Write a Python program that reads a file and prints the number of occurrences of a specific word\n",
        "\n",
        "def count_word_occurrences(filename, word):\n",
        "    try:\n",
        "        with open(filename, \"r\") as file:  # Open file in read mode\n",
        "            content = file.read().lower()  # Read file & convert to lowercase\n",
        "            count = content.split().count(word.lower())  # Count word occurrences\n",
        "            print(f\"The word '{word}' appears {count} times in '{filename}'.\")\n",
        "    except FileNotFoundError:\n",
        "        print(f\"Error: The file '{filename}' does not exist.\")\n",
        "    except Exception as e:\n",
        "        print(f\"An error occurred: {e}\")\n",
        "\n",
        "# Example usage\n",
        "count_word_occurrences(\"example.txt\", \"Python\")\n"
      ],
      "metadata": {
        "colab": {
          "base_uri": "https://localhost:8080/"
        },
        "id": "NiNjswpXngbC",
        "outputId": "0644ed0d-c618-4f7d-c6f1-ad7edacbde0c"
      },
      "execution_count": 23,
      "outputs": [
        {
          "output_type": "stream",
          "name": "stdout",
          "text": [
            "The word 'Python' appears 0 times in 'example.txt'.\n"
          ]
        }
      ]
    },
    {
      "cell_type": "code",
      "source": [
        "# 22.  How can you check if a file is empty before attempting to read its contents\n",
        "\n",
        "import os\n",
        "\n",
        "def is_file_empty(filename):\n",
        "    return os.path.getsize(filename) == 0  # Returns True if file is empty\n",
        "\n",
        "filename = \"example.txt\"\n",
        "\n",
        "if os.path.exists(filename):  # Check if file exists\n",
        "    if is_file_empty(filename):\n",
        "        print(f\"Error: The file '{filename}' is empty.\")\n",
        "    else:\n",
        "        with open(filename, \"r\") as file:\n",
        "            content = file.read()\n",
        "            print(content)\n",
        "else:\n",
        "    print(f\"Error: The file '{filename}' does not exist.\")\n"
      ],
      "metadata": {
        "colab": {
          "base_uri": "https://localhost:8080/"
        },
        "id": "3ZHbc8EqnvA6",
        "outputId": "45f43d36-881f-4129-be24-717b2fbf9d3b"
      },
      "execution_count": 24,
      "outputs": [
        {
          "output_type": "stream",
          "name": "stdout",
          "text": [
            "Hello, this is a test message!This is a new line.\n",
            "\n"
          ]
        }
      ]
    },
    {
      "cell_type": "code",
      "source": [
        "# 23. Write a Python program that writes to a log file when an error occurs during file handling.\n",
        "\n",
        "import logging\n",
        "\n",
        "# Configure logging\n",
        "logging.basicConfig(\n",
        "    filename=\"error.log\",\n",
        "    level=logging.ERROR,\n",
        "    format=\"%(asctime)s - %(levelname)s - %(message)s\"\n",
        ")\n",
        "\n",
        "def read_file(filename):\n",
        "    try:\n",
        "        with open(filename, \"r\") as file:\n",
        "            content = file.read()\n",
        "            print(content)\n",
        "    except FileNotFoundError:\n",
        "        logging.error(f\"File '{filename}' not found.\")\n",
        "        print(f\"Error: The file '{filename}' does not exist.\")\n",
        "    except PermissionError:\n",
        "        logging.error(f\"Permission denied for file '{filename}'.\")\n",
        "        print(f\"Error: Permission denied for file '{filename}'.\")\n",
        "    except Exception as e:\n",
        "        logging.error(f\"An unexpected error occurred: {e}\")\n",
        "        print(f\"Error: An unexpected issue occurred.\")\n",
        "\n",
        "# Example usage\n",
        "read_file(\"nonexistent.txt\")\n"
      ],
      "metadata": {
        "colab": {
          "base_uri": "https://localhost:8080/"
        },
        "id": "d6iBq9p0n7Ie",
        "outputId": "7508d80d-731b-45fd-fa7d-513d458eb484"
      },
      "execution_count": 25,
      "outputs": [
        {
          "output_type": "stream",
          "name": "stderr",
          "text": [
            "ERROR:root:File 'nonexistent.txt' not found.\n"
          ]
        },
        {
          "output_type": "stream",
          "name": "stdout",
          "text": [
            "Error: The file 'nonexistent.txt' does not exist.\n"
          ]
        }
      ]
    },
    {
      "cell_type": "code",
      "source": [],
      "metadata": {
        "id": "RLeuUkMioEYD"
      },
      "execution_count": null,
      "outputs": []
    }
  ]
}